{
  "nbformat": 4,
  "nbformat_minor": 0,
  "metadata": {
    "colab": {
      "provenance": [],
      "authorship_tag": "ABX9TyOX+xH/BfI0UiYGyNDAvoaG",
      "include_colab_link": true
    },
    "kernelspec": {
      "name": "python3",
      "display_name": "Python 3"
    },
    "language_info": {
      "name": "python"
    }
  },
  "cells": [
    {
      "cell_type": "markdown",
      "metadata": {
        "id": "view-in-github",
        "colab_type": "text"
      },
      "source": [
        "<a href=\"https://colab.research.google.com/github/nzungizelab/intro_pyhton4ML/blob/NzungizeL/Intro_python4ML.ipynb\" target=\"_parent\"><img src=\"https://colab.research.google.com/assets/colab-badge.svg\" alt=\"Open In Colab\"/></a>"
      ]
    },
    {
      "cell_type": "code",
      "execution_count": 1,
      "metadata": {
        "id": "vRXCzdP4rQ6P"
      },
      "outputs": [],
      "source": [
        "#manipulate strin in many ways\n",
        "str_var = 'where r'\n",
        "str_var2 = 'you'"
      ]
    },
    {
      "cell_type": "code",
      "source": [
        "print(str_var + \" \" + str_var2)"
      ],
      "metadata": {
        "colab": {
          "base_uri": "https://localhost:8080/"
        },
        "id": "2NMxZ1G4r4NQ",
        "outputId": "c789fb41-fdf2-4f09-a3fe-71459ac733ed"
      },
      "execution_count": 9,
      "outputs": [
        {
          "output_type": "stream",
          "name": "stdout",
          "text": [
            "where r you\n"
          ]
        }
      ]
    },
    {
      "cell_type": "code",
      "source": [
        "me = str_var + \" \" + str_var2\n",
        "print(me)"
      ],
      "metadata": {
        "colab": {
          "base_uri": "https://localhost:8080/"
        },
        "id": "U_dsioZcsAM5",
        "outputId": "e14ef415-55f4-47ce-d795-a3882f7a5855"
      },
      "execution_count": 10,
      "outputs": [
        {
          "output_type": "stream",
          "name": "stdout",
          "text": [
            "where r you\n"
          ]
        }
      ]
    },
    {
      "cell_type": "code",
      "source": [
        "#compare 2 strings\n",
        "\"A string\" == \"a string\""
      ],
      "metadata": {
        "colab": {
          "base_uri": "https://localhost:8080/"
        },
        "id": "q57Q6V2ktD3k",
        "outputId": "57455251-a2bb-483c-d6e5-2d12673b3470"
      },
      "execution_count": 11,
      "outputs": [
        {
          "output_type": "execute_result",
          "data": {
            "text/plain": [
              "False"
            ]
          },
          "metadata": {},
          "execution_count": 11
        }
      ]
    },
    {
      "cell_type": "code",
      "source": [
        "\"A string\" == \"A string\""
      ],
      "metadata": {
        "colab": {
          "base_uri": "https://localhost:8080/"
        },
        "id": "SB08mD4itIaV",
        "outputId": "f2663648-5012-4df1-891b-09e8ddb8fd78"
      },
      "execution_count": 12,
      "outputs": [
        {
          "output_type": "execute_result",
          "data": {
            "text/plain": [
              "True"
            ]
          },
          "metadata": {},
          "execution_count": 12
        }
      ]
    },
    {
      "cell_type": "code",
      "source": [
        "#capitlizes string\n",
        "me = \"I am going to school\""
      ],
      "metadata": {
        "id": "m0epkEGEtpKA"
      },
      "execution_count": 14,
      "outputs": []
    },
    {
      "cell_type": "code",
      "source": [
        "me.capitalize()"
      ],
      "metadata": {
        "colab": {
          "base_uri": "https://localhost:8080/",
          "height": 36
        },
        "id": "jJX7TAOft08l",
        "outputId": "d766ca76-264a-49eb-baeb-d361b97a7460"
      },
      "execution_count": 15,
      "outputs": [
        {
          "output_type": "execute_result",
          "data": {
            "text/plain": [
              "'I am going to school'"
            ],
            "application/vnd.google.colaboratory.intrinsic+json": {
              "type": "string"
            }
          },
          "metadata": {},
          "execution_count": 15
        }
      ]
    },
    {
      "cell_type": "code",
      "source": [
        "#turn into upper case\n",
        "me.upper()"
      ],
      "metadata": {
        "colab": {
          "base_uri": "https://localhost:8080/",
          "height": 36
        },
        "id": "OKo29d5-t8Xi",
        "outputId": "26d375d3-7ec7-4636-94c7-f213005e8a57"
      },
      "execution_count": 16,
      "outputs": [
        {
          "output_type": "execute_result",
          "data": {
            "text/plain": [
              "'I AM GOING TO SCHOOL'"
            ],
            "application/vnd.google.colaboratory.intrinsic+json": {
              "type": "string"
            }
          },
          "metadata": {},
          "execution_count": 16
        }
      ]
    },
    {
      "cell_type": "code",
      "source": [
        "# each letter in upper case\n",
        "me.title()"
      ],
      "metadata": {
        "colab": {
          "base_uri": "https://localhost:8080/",
          "height": 36
        },
        "id": "rfLWm97luFfX",
        "outputId": "53d09e99-ee42-4d33-ffe1-afa74a376364"
      },
      "execution_count": 18,
      "outputs": [
        {
          "output_type": "execute_result",
          "data": {
            "text/plain": [
              "'I Am Going To School'"
            ],
            "application/vnd.google.colaboratory.intrinsic+json": {
              "type": "string"
            }
          },
          "metadata": {},
          "execution_count": 18
        }
      ]
    },
    {
      "cell_type": "code",
      "source": [
        "#split string\n",
        "me.split()"
      ],
      "metadata": {
        "colab": {
          "base_uri": "https://localhost:8080/"
        },
        "id": "Wv1oCAvOudc4",
        "outputId": "f251887b-034b-44cc-cf91-71370cd5f231"
      },
      "execution_count": 19,
      "outputs": [
        {
          "output_type": "execute_result",
          "data": {
            "text/plain": [
              "['I', 'am', 'going', 'to', 'school']"
            ]
          },
          "metadata": {},
          "execution_count": 19
        }
      ]
    }
  ]
}